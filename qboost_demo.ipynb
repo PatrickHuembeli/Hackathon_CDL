{
 "cells": [
  {
   "cell_type": "markdown",
   "metadata": {},
   "source": [
    "# Qboost: Binary Classification with Quantum Computer\n",
    "\n",
    "The D-Wave quantum computer has been widely studied as a discrete optimization engine that accepts any problem formulated as quadratic unconstrained  binary  optimization  (QUBO). In 2008, Google and D-Wave published a paper, [Training a Binary Classifier with the Quantum Adiabatic Algorithm](https://arxiv.org/pdf/0811.0416.pdf), which describes how the `Qboost` ensemble method makes binary classification amenable to quantum computing: the problem is formulated as a thresholded linear superposition of a set of weak classifiers and the D-Wave quantum computer is  used to optimize the weights in a learning process that strives to minimize the training error and number of weak classifiers.\n",
    "\n",
    "This notebook demonstrates and explains how the Qboost algorithm can be used to solve a binary classification problem. "
   ]
  },
  {
   "cell_type": "markdown",
   "metadata": {},
   "source": [
    "## A Few Words on Ensemble Methods\n",
    "\n",
    "Ensemble methods build a strong classifier (an improved model) by combining weak classifiers with the goal of:\n",
    "\n",
    "* decreasing variance (bagging)\n",
    "* decreasing bias (boosting)\n",
    "* improving prediction (voting)\n",
    "\n",
    "![Boosting Algorithm](images/boosting.jpg)\n",
    "\n",
    "### Bagging, Boosting, and Voting\n",
    "\n",
    "The ensemble method produces new training data sets by random sampling with replacement from the original set. In _bagging_, any element has the same probability to appear in a new dataset; in _boosting_, data elements are weighted before they are collected in the new dataset. Another distinction is that bagging is parallelizable but boosting has to be executed sequentially. You can learn more about the differences between these methods here: https://quantdare.com/what-is-the-difference-between-bagging-and-boosting/.\n",
    "\n",
    "Voting operates on labels only. Unlike boosting, the aggeragated classification performance is not used to further polish each weak classifier. Voting has two typical requirements of its collection of  weak classifiers: that there be __many__ and that they be __diverse__.  "
   ]
  },
  {
   "cell_type": "markdown",
   "metadata": {},
   "source": [
    "## Weak and Strong Classifiers\n",
    "For this reference example we chose the following four classifiers:\n",
    "    1. Adaboost\n",
    "    2. Decision Trees\n",
    "    3. Random Forest\n",
    "    4. Qboost\n",
    "Note that you can replace any of these with any commonly used classification model. Also, an ensemble method can use a strong classifier instead of a weak one, and in this example we embed the Qboost classifier itself, __QboostPlus__ in the following code, with the first three.  \n",
    "\n",
    "### Adaboost\n",
    "Adaboost combines a number of $N$ weak classifiers into a strong one as\n",
    "$$C(x) = sign\\left(\\sum_i^N w_i c_i(x)\\right),$$\n",
    "with $c_i(x) \\in [-1, +1]$ being the $i$-th weak classifier:\n",
    "\n",
    "$$c_i(x) = sign(w'*x + b)$$\n",
    "\n",
    "The loss function of Adaboost is defined as\n",
    "$$\n",
    "L = \\sum_{n=1}^N \\exp\\left\\{ - y_n \\sum_{s=1}^S w_sc_k(x_n)\\right\\}.\n",
    "$$\n",
    "\n",
    "The strong classifier $C(\\cdot)$ is constructed in an iterative fashion. In each iteration, one weak classifier\n",
    "is selected and re-learned to minimize the weighted error function. Its weight is adjusted and renormalized to make sure the sum of all weights equals 1. \n",
    "\n",
    "The final classification model will be decided by a weighted “vote” of all the weak classifiers. \n",
    "\n",
    "### Decision Trees\n",
    "A decision tree builds on a tree structure with non-leaf nodes encoding decision rules and leaf nodes encoding labels. You construct a decision tree by optimizing either entropic or information-theoretic metrics. Controlling the depth of a decision tree indirectly decides the sub-dimension of the dataset. \n",
    "\n",
    "Decision trees are often chosen as the weak classifiers in Adaboost because they are both simple to construct and fast to do inference. The `scikit-learn` package implements its Adaboost method with decision trees of depth 1, also known as _tree stumps_. This reference examples demonstrates an alternative implementation of boosting with a number of deeper decision trees.\n",
    "### Random Forest \n",
    "Random forest is an ensemble method that typically implements bagging on a set of decision trees. By introducing randomness in the selection of an optimized feature in the training of the underlying decision trees, the ensemble diversifies the weightings of its collection of weak classifiers, generally resulting in an improved model.    \n",
    "\n",
    "### Qboost\n",
    "To make use of the optimization power of D-Wave quantum annealer, we needs to formulate our objective function as a quadratic unconstrained binary optimization (QUBO) problem. Therefore, we replace the exponential loss as in Adaboost with the following quadratic loss\n",
    "$$\n",
    "w* = \\arg\\min_w\\left(\\sum_s \\left(\\frac{1}{N}\\sum_n^N w_nc_n(x_s) - y_s\\right)^2\\right) + \\lambda ||w||_0,\n",
    "$$\n",
    "where the regularization term is added to enable controlling of weight sparsity.\n",
    "\n",
    "Note in Qboost, the weight vector is binary.\n",
    "\n"
   ]
  },
  {
   "cell_type": "markdown",
   "metadata": {},
   "source": [
    "## Training and Comparing Performance\n",
    "Now we define functions used in the following experiemnts to train our selected classifiers and provide metrics for comparing performance.\n",
    "\n",
    "First, copy your API token."
   ]
  },
  {
   "cell_type": "code",
<<<<<<< HEAD
   "execution_count": 35,
   "metadata": {
    "collapsed": true
   },
=======
   "execution_count": 1,
   "metadata": {},
>>>>>>> ed8bbdc821b3e8bf8464da5ff75f3e36de8a4e24
   "outputs": [],
   "source": [
    "# Fill in your API token:\n",
    "sapi_token = 'CDL8-df1de1d5d76560ee73a82ffca3833a1a444536d3'"
   ]
  },
  {
   "cell_type": "markdown",
   "metadata": {},
   "source": [
    "Now let us import the required packages."
   ]
  },
  {
   "cell_type": "code",
<<<<<<< HEAD
   "execution_count": 36,
   "metadata": {
    "collapsed": true
   },
=======
   "execution_count": 2,
   "metadata": {},
>>>>>>> ed8bbdc821b3e8bf8464da5ff75f3e36de8a4e24
   "outputs": [],
   "source": [
    "# import necessary packages\n",
    "from sklearn import preprocessing, metrics\n",
    "from sklearn.ensemble import AdaBoostClassifier, RandomForestClassifier\n",
    "from sklearn.datasets.mldata import fetch_mldata\n",
    "from sklearn.datasets import load_breast_cancer\n",
    "from dwave.system.samplers import DWaveSampler\n",
    "from dwave.system.composites import EmbeddingComposite\n",
    "\n",
    "from qboost import WeakClassifiers, QBoostClassifier, QboostPlus"
   ]
  },
  {
   "cell_type": "markdown",
   "metadata": {},
   "source": [
    "Next, let us define the `metric` and `train_model` functions:"
   ]
  },
  {
   "cell_type": "code",
<<<<<<< HEAD
   "execution_count": 37,
=======
   "execution_count": 34,
>>>>>>> ed8bbdc821b3e8bf8464da5ff75f3e36de8a4e24
   "metadata": {},
   "outputs": [
    {
     "name": "stdout",
     "output_type": "stream",
     "text": [
      "['DW_2000Q_VFYC_2', 'DW_2000Q_2', 'c4-sw_optimize', 'c4-sw_sample']\n"
     ]
    }
   ],
   "source": [
    "from dwave_sapi2.remote import RemoteConnection\n",
    "\n",
    "url = 'https://cloud.dwavesys.com/sapi'\n",
    "token = sapi_token\n",
    "conn = RemoteConnection(url, token)\n",
<<<<<<< HEAD
    "solver_name = 'DW_2000Q_2'\n",
    "\n",
    "print(conn.solver_names())"
=======
    "print(conn.solver_names())\n",
    "# solver = conn.get_solver('c4-sw_sample')\n",
    "# solver.properties"
>>>>>>> ed8bbdc821b3e8bf8464da5ff75f3e36de8a4e24
   ]
  },
  {
   "cell_type": "code",
<<<<<<< HEAD
   "execution_count": 38,
   "metadata": {
    "collapsed": true
   },
=======
   "execution_count": 35,
   "metadata": {},
>>>>>>> ed8bbdc821b3e8bf8464da5ff75f3e36de8a4e24
   "outputs": [],
   "source": [
    "# Define the functions required in this example\n",
    "def metric(y, y_pred):\n",
    "    \"\"\"\n",
    "    :param y: true label\n",
    "    :param y_pred: predicted label\n",
    "    :return: metric score\n",
    "    \"\"\"\n",
    "\n",
    "    return metrics.accuracy_score(y, y_pred)\n",
    "\n",
    "\n",
    "def train_model(X_train, y_train, X_test, y_test, lmd):\n",
    "    \"\"\"\n",
    "    :param X_train: training data\n",
    "    :param y_train: training label\n",
    "    :param X_test: testing data\n",
    "    :param y_test: testing label\n",
    "    :param lmd: lambda used in regularization\n",
    "    :return:\n",
    "    \"\"\"\n",
    "\n",
    "    # define parameters used in this function\n",
    "    NUM_READS = 1000\n",
    "    NUM_WEAK_CLASSIFIERS = 30\n",
    "    TREE_DEPTH = 2\n",
    "    DW_PARAMS = {'num_reads': NUM_READS,\n",
    "                 'auto_scale': True,\n",
    "                 'num_spin_reversal_transforms': 10,\n",
    "                 'postprocess': 'optimization',\n",
    "                 }\n",
    "\n",
    "    # define sampler\n",
    "    dwave_sampler = DWaveSampler(token=sapi_token, endpoint = url)\n",
    "    emb_sampler = EmbeddingComposite(dwave_sampler)\n",
    "\n",
    "    N_train = len(X_train)\n",
    "    N_test = len(X_test)\n",
    "    print(\"\\n======================================\")\n",
    "    print(\"Train size: %d, Test size: %d\" %(N_train, N_test))\n",
    "    print('Num weak classifiers:', NUM_WEAK_CLASSIFIERS)\n",
    "\n",
    "    # Preprocessing data\n",
    "    imputer = preprocessing.Imputer()\n",
    "    scaler = preprocessing.StandardScaler()\n",
    "    normalizer = preprocessing.Normalizer()\n",
    "\n",
    "    X_train = scaler.fit_transform(X_train)\n",
    "    X_train = normalizer.fit_transform(X_train)\n",
    "\n",
    "    X_test = scaler.fit_transform(X_test)\n",
    "    X_test = normalizer.fit_transform(X_test)\n",
    "\n",
    "    ## Adaboost\n",
    "    print('\\nAdaboost')\n",
    "    clf1 = AdaBoostClassifier(n_estimators=NUM_WEAK_CLASSIFIERS)\n",
    "    clf1.fit(X_train, y_train)\n",
    "    y_train1 = clf1.predict(X_train)\n",
    "    y_test1 = clf1.predict(X_test)\n",
    "#     print(clf1.estimator_weights_)\n",
    "    print('accu (train): %5.2f'%(metric(y_train, y_train1)))\n",
    "    print('accu (test): %5.2f'%(metric(y_test, y_test1)))\n",
    "\n",
    "    # Ensembles of Decision Tree\n",
    "    print('\\nDecision tree')\n",
    "    clf2 = WeakClassifiers(n_estimators=NUM_WEAK_CLASSIFIERS, max_depth=TREE_DEPTH)\n",
    "    clf2.fit(X_train, y_train)\n",
    "    y_train2 = clf2.predict(X_train)\n",
    "    y_test2 = clf2.predict(X_test)\n",
    "#     print(clf2.estimator_weights)\n",
    "    print('accu (train): %5.2f' % (metric(y_train, y_train2)))\n",
    "    print('accu (test): %5.2f' % (metric(y_test, y_test2)))\n",
    "    \n",
    "    # Random forest\n",
    "    print('\\nRandom Forest')\n",
    "    clf3 = RandomForestClassifier(max_depth=TREE_DEPTH, n_estimators=NUM_WEAK_CLASSIFIERS)\n",
    "    clf3.fit(X_train, y_train)\n",
    "    y_train3 = clf3.predict(X_train)\n",
    "    y_test3 = clf3.predict(X_test)\n",
    "    print('accu (train): %5.2f' % (metric(y_train, y_train3)))\n",
    "    print('accu (test): %5.2f' % (metric(y_test, y_test3)))\n",
    "\n",
    "    # Qboost\n",
    "    print('\\nQBoost')\n",
    "    clf4 = QBoostClassifier(n_estimators=NUM_WEAK_CLASSIFIERS, max_depth=TREE_DEPTH)\n",
    "    clf4.fit(X_train, y_train, emb_sampler, lmd=lmd, **DW_PARAMS)\n",
    "    y_train4 = clf4.predict(X_train)\n",
    "    y_test4 = clf4.predict(X_test)\n",
    "    print(clf4.estimator_weights)\n",
    "    print('accu (train): %5.2f' % (metric(y_train, y_train4)))\n",
    "    print('accu (test): %5.2f' % (metric(y_test, y_test4)))\n",
    "\n",
    "    # QboostPlus\n",
    "    print('\\nQBoostPlus')\n",
    "    clf5 = QboostPlus([clf1, clf2, clf3, clf4])\n",
    "    clf5.fit(X_train, y_train, emb_sampler, lmd=lmd, **DW_PARAMS)\n",
    "    y_train5 = clf5.predict(X_train)\n",
    "    y_test5 = clf5.predict(X_test)\n",
    "    print(clf5.estimator_weights)\n",
    "    print('accu (train): %5.2f' % (metric(y_train, y_train5)))\n",
    "    print('accu (test): %5.2f' % (metric(y_test, y_test5)))\n",
    "\n",
    "    print(\"===========================================================================\")\n",
    "    print(\"Method \\t Adaboost \\t DecisionTree \\t RandomForest \\t Qboost \\t Qboost+\")\n",
    "    print(\"Train\\t %5.2f \\t\\t %5.2f \\t\\t %5.2f \\t\\t %5.2f \\t\\t %5.2f\"% (metric(y_train, y_train1),\n",
    "                                                                         metric(y_train, y_train2),\n",
    "                                                                         metric(y_train, y_train3),\n",
    "                                                                         metric(y_train, y_train4),\n",
    "                                                                         metric(y_train, y_train5),\n",
    "                                                                        ))\n",
    "    print(\"Test\\t %5.2f \\t\\t %5.2f \\t\\t %5.2f \\t\\t %5.2f \\t\\t %5.2f\"% (metric(y_test, y_test1),\n",
    "                                                                       metric(y_test, y_test2),\n",
    "                                                                       metric(y_test, y_test3),\n",
    "                                                                       metric(y_test, y_test4),\n",
    "                                                                       metric(y_test, y_test5)))\n",
    "    print(\"===========================================================================\")\n",
    "    \n",
    "    return [clf1, clf2, clf3, clf4, clf5]"
   ]
  },
  {
   "cell_type": "markdown",
   "metadata": {},
   "source": [
    "## Experiments\n",
    "Now we're ready to run some experiments.\n",
    "First, import the required packages. "
   ]
  },
  {
   "cell_type": "code",
<<<<<<< HEAD
   "execution_count": 39,
=======
   "execution_count": 36,
>>>>>>> ed8bbdc821b3e8bf8464da5ff75f3e36de8a4e24
   "metadata": {},
   "outputs": [],
   "source": [
    "import numpy as np\n",
    "#import os\n",
    "import matplotlib.pyplot as plt"
   ]
  },
  {
   "cell_type": "markdown",
   "metadata": {},
   "source": [
    "\n",
    "### Experiment 1: Binary Classfication on the MNIST Dataset \n",
    "This example transforms the MNIST dataset (handwritten digits) into a binary classification problem. We assume all digits that are smaller than 5 are labelled as -1 and the rest digits are labelled as +1.\n",
    "\n",
    "First, let us load the MINIST dataset:"
   ]
  },
  {
   "cell_type": "code",
<<<<<<< HEAD
   "execution_count": 40,
=======
   "execution_count": 68,
>>>>>>> ed8bbdc821b3e8bf8464da5ff75f3e36de8a4e24
   "metadata": {
    "scrolled": true
   },
   "outputs": [],
   "source": [
    "from keras.datasets import mnist\n",
    "(x_train, y_train), (x_test, y_test) = mnist.load_data()"
   ]
  },
  {
   "cell_type": "code",
<<<<<<< HEAD
   "execution_count": 41,
=======
   "execution_count": 69,
>>>>>>> ed8bbdc821b3e8bf8464da5ff75f3e36de8a4e24
   "metadata": {},
   "outputs": [
    {
     "name": "stdout",
     "output_type": "stream",
     "text": [
<<<<<<< HEAD
      "[ True False False ...,  True  True  True]\n"
=======
      "(15000, 784)\n",
      "(15000, 784)\n"
>>>>>>> ed8bbdc821b3e8bf8464da5ff75f3e36de8a4e24
     ]
    }
   ],
   "source": [
<<<<<<< HEAD
    "y_train2 = 2*(y_train >4) - 1\n",
    "print((y_train >4))"
   ]
  },
  {
   "cell_type": "code",
   "execution_count": 42,
   "metadata": {},
   "outputs": [
    {
     "name": "stdout",
     "output_type": "stream",
     "text": [
      "Training data size: (10000, 784)\n",
      "Testing data size: (5000, 784)\n"
     ]
    }
   ],
   "source": [
    "mnist = fetch_mldata('MNIST original')\n",
    "\n",
    "idx_01 = np.where(mnist.target <= 9)[0]\n",
=======
    "idx_01 = np.where(x_train <= 9)[0]\n",
    "idx_02 = np.where(x_test <= 9)[0]\n",
>>>>>>> ed8bbdc821b3e8bf8464da5ff75f3e36de8a4e24
    "np.random.shuffle(idx_01)\n",
    "np.random.shuffle(idx_02)\n",
    "idx_01 = idx_01[:15000]\n",
    "idx_02 = idx_02[:15000]\n",
    "idx_train = idx_01\n",
    "idx_test = idx_02\n",
    "\n",
    "X_train = x_train[idx_train]\n",
    "X_test = x_test[idx_test]\n",
    "\n",
    "y_train = 2*(y_train[idx_train] >4) - 1\n",
    "y_test = 2*(y_test[idx_test] >4) - 1\n",
    "\n",
    "X_train = X_train.reshape(15000, 784)\n",
    "X_test = X_test.reshape(15000, 784)\n",
    "print((X_train.shape))\n",
    "print((X_test.shape))"
   ]
  },
  {
   "cell_type": "markdown",
   "metadata": {},
   "source": [
    "Let us visualize the digits: digits with class $+1$ are shown as images with a black background while digits with class $-1$  as images with a white background."
   ]
  },
  {
   "cell_type": "code",
<<<<<<< HEAD
   "execution_count": 43,
   "metadata": {},
   "outputs": [],
=======
   "execution_count": 70,
   "metadata": {},
   "outputs": [
    {
     "data": {
      "image/png": "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\n",
      "text/plain": [
       "<matplotlib.figure.Figure at 0x1a30dd3550>"
      ]
     },
     "metadata": {},
     "output_type": "display_data"
    }
   ],
>>>>>>> ed8bbdc821b3e8bf8464da5ff75f3e36de8a4e24
   "source": [
    "for i in range(16):\n",
    "    if y_train[i] == 1:\n",
    "        COLORMAP = 'gray'\n",
    "    else:\n",
    "        COLORMAP = 'gray_r'\n",
    "    plt.subplot(4,4, i+1)\n",
    "    plt.imshow(X_train[i].reshape(28,28), cmap=COLORMAP)\n",
    "    plt.axis('off')"
   ]
  },
  {
   "cell_type": "markdown",
   "metadata": {},
   "source": [
    "Now train the model and compare the results of the selected classifiers."
   ]
  },
  {
   "cell_type": "code",
<<<<<<< HEAD
   "execution_count": 44,
=======
   "execution_count": null,
>>>>>>> ed8bbdc821b3e8bf8464da5ff75f3e36de8a4e24
   "metadata": {},
   "outputs": [
    {
     "name": "stdout",
     "output_type": "stream",
     "text": [
      "\n",
      "======================================\n",
<<<<<<< HEAD
      "Train size: 10000, Test size: 5000\n",
      "('Num weak classifiers:', 30)\n",
      "\n",
      "Adaboost\n",
      "accu (train):  0.84\n",
      "accu (test):  0.83\n",
      "\n",
      "Decision tree\n",
      "accu (train):  0.87\n",
      "accu (test):  0.85\n",
      "\n",
      "Random Forest\n",
      "accu (train):  0.76\n",
      "accu (test):  0.76\n",
      "\n",
      "QBoost\n",
      "[1 1 1 1 1 1 1 1 1 1 1 1 1 1 1 1 1 1 1 1 1 1 1 1 1 1 0 1 1 1]\n",
      "accu (train):  0.87\n",
      "accu (test):  0.86\n",
      "\n",
      "QBoostPlus\n",
      "[1 1 1 1]\n",
      "accu (train):  0.86\n",
      "accu (test):  0.85\n",
      "===========================================================================\n",
      "Method \t Adaboost \t DecisionTree \t RandomForest \t Qboost \t Qboost+\n",
      "Train\t  0.84 \t\t  0.87 \t\t  0.76 \t\t  0.87 \t\t  0.86\n",
      "Test\t  0.83 \t\t  0.85 \t\t  0.76 \t\t  0.86 \t\t  0.85\n",
      "===========================================================================\n"
=======
      "Train size: 15000, Test size: 15000\n",
      "('Num weak classifiers:', 30)\n"
     ]
    },
    {
     "name": "stderr",
     "output_type": "stream",
     "text": [
      "/Users/phuembeli/anaconda3/envs/python2/lib/python2.7/site-packages/sklearn/utils/validation.py:475: DataConversionWarning: Data with input dtype uint8 was converted to float64 by StandardScaler.\n",
      "  warnings.warn(msg, DataConversionWarning)\n"
     ]
    },
    {
     "name": "stdout",
     "output_type": "stream",
     "text": [
      "\n",
      "Adaboost\n"
>>>>>>> ed8bbdc821b3e8bf8464da5ff75f3e36de8a4e24
     ]
    }
   ],
   "source": [
    "# start training the model\n",
    "clfs = train_model(X_train, y_train, X_test, y_test, 1.0)"
   ]
  },
  {
   "cell_type": "code",
<<<<<<< HEAD
   "execution_count": 45,
   "metadata": {
    "collapsed": true
   },
=======
   "execution_count": null,
   "metadata": {},
>>>>>>> ed8bbdc821b3e8bf8464da5ff75f3e36de8a4e24
   "outputs": [],
   "source": [
    "# TODO: for this cell, Graphviz executables must be on systems PATH \n",
    "# You can optionally visualize the decision trees by uncommenting the following code\n",
    "# import graphviz\n",
    "# from sklearn import tree\n",
    "# clf = clfs[0]\n",
    "# graph = graphviz.Source(tree.export_graphviz(clf.estimators_[0], out_file=None))\n",
    "# graph.render(None, view=True)"
   ]
  },
  {
   "cell_type": "markdown",
   "metadata": {},
   "source": [
    "### Experiment 2: Wisconsin Breast Cancer\n",
    "\n",
    "This example classifies tumors in scikit-learn's Wisconsis breast cancer dataset as either malignant or benign (binary classification).\n",
    "\n",
    "First, let us load the dataset."
   ]
  },
  {
   "cell_type": "code",
   "execution_count": 46,
   "metadata": {
    "collapsed": true
   },
   "outputs": [],
   "source": [
    "wisc = load_breast_cancer()\n",
    "\n",
    "idx = np.arange(len(wisc.target))\n",
    "np.random.shuffle(idx)\n",
    "\n",
    "# train on a random 2/3 and test on the remaining 1/3\n",
    "idx_train = idx[:2*len(idx)//3]\n",
    "idx_test = idx[2*len(idx)//3:]\n",
    "\n",
    "X_train = wisc.data[idx_train]\n",
    "X_test = wisc.data[idx_test]\n",
    "\n",
    "y_train = 2 * wisc.target[idx_train] - 1  # binary -> spin\n",
    "y_test = 2 * wisc.target[idx_test] - 1"
   ]
  },
  {
   "cell_type": "code",
   "execution_count": 34,
   "metadata": {},
   "outputs": [
    {
     "data": {
      "text/plain": [
       "array([25372, 17422, 39047, ..., 33089, 53898, 43637])"
      ]
     },
     "execution_count": 34,
     "metadata": {},
     "output_type": "execute_result"
    }
   ],
   "source": [
    "X_train.shape\n",
    "idx_01\n"
   ]
  },
  {
   "cell_type": "markdown",
   "metadata": {},
   "source": [
    "Now train the model and compare the results of the selected classifiers."
   ]
  },
  {
   "cell_type": "code",
   "execution_count": 32,
   "metadata": {},
   "outputs": [
    {
     "name": "stdout",
     "output_type": "stream",
     "text": [
      "\n",
      "======================================\n",
      "Train size: 379, Test size: 190\n",
      "('Num weak classifiers:', 30)\n",
      "\n",
      "Adaboost\n",
      "accu (train):  1.00\n",
      "accu (test):  0.97\n",
      "\n",
      "Decision tree\n",
      "accu (train):  1.00\n",
      "accu (test):  0.97\n",
      "\n",
      "Random Forest\n",
      "accu (train):  0.96\n",
      "accu (test):  0.95\n",
      "\n",
      "QBoost\n",
      "[1 1 1 1 1 1 1 1 1 1 1 1 1 1 0 1 1 1 1 1 1 1 1 1 1 1 1 1 1 1]\n",
      "accu (train):  1.00\n",
      "accu (test):  0.98\n",
      "\n",
      "QBoostPlus\n",
      "[1 1 1 1]\n",
      "accu (train):  1.00\n",
      "accu (test):  0.98\n",
      "===========================================================================\n",
      "Method \t Adaboost \t DecisionTree \t RandomForest \t Qboost \t Qboost+\n",
      "Train\t  1.00 \t\t  1.00 \t\t  0.96 \t\t  1.00 \t\t  1.00\n",
      "Test\t  0.97 \t\t  0.97 \t\t  0.95 \t\t  0.98 \t\t  0.98\n",
      "===========================================================================\n"
     ]
    }
   ],
   "source": [
    "# train the model\n",
    "clfs = train_model(X_train, y_train, X_test, y_test, 1.0)"
   ]
  }
 ],
 "metadata": {
  "kernelspec": {
   "display_name": "Python 2",
   "language": "python",
   "name": "python2"
  },
  "language_info": {
   "codemirror_mode": {
    "name": "ipython",
    "version": 2
   },
   "file_extension": ".py",
   "mimetype": "text/x-python",
   "name": "python",
   "nbconvert_exporter": "python",
   "pygments_lexer": "ipython2",
   "version": "2.7.13"
  },
  "toc": {
   "base_numbering": 1,
   "nav_menu": {},
   "number_sections": true,
   "sideBar": true,
   "skip_h1_title": false,
   "title_cell": "Table of Contents",
   "title_sidebar": "Contents",
   "toc_cell": false,
   "toc_position": {},
   "toc_section_display": true,
   "toc_window_display": false
  }
 },
 "nbformat": 4,
 "nbformat_minor": 2
}
